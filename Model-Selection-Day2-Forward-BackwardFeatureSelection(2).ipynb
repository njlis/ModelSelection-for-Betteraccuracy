{
 "cells": [
  {
   "cell_type": "markdown",
   "id": "fd9972bc",
   "metadata": {},
   "source": [
    "# Forward Selection:\n",
    "---"
   ]
  },
  {
   "cell_type": "code",
   "execution_count": 1,
   "id": "4c0125c6",
   "metadata": {},
   "outputs": [
    {
     "data": {
      "text/html": [
       "<div>\n",
       "<style scoped>\n",
       "    .dataframe tbody tr th:only-of-type {\n",
       "        vertical-align: middle;\n",
       "    }\n",
       "\n",
       "    .dataframe tbody tr th {\n",
       "        vertical-align: top;\n",
       "    }\n",
       "\n",
       "    .dataframe thead th {\n",
       "        text-align: right;\n",
       "    }\n",
       "</style>\n",
       "<table border=\"1\" class=\"dataframe\">\n",
       "  <thead>\n",
       "    <tr style=\"text-align: right;\">\n",
       "      <th></th>\n",
       "      <th>Type</th>\n",
       "      <th>LongestShell</th>\n",
       "      <th>Diameter</th>\n",
       "      <th>Height</th>\n",
       "      <th>WholeWeight</th>\n",
       "      <th>ShuckedWeight</th>\n",
       "      <th>VisceraWeight</th>\n",
       "      <th>ShellWeight</th>\n",
       "      <th>Rings</th>\n",
       "    </tr>\n",
       "  </thead>\n",
       "  <tbody>\n",
       "    <tr>\n",
       "      <th>0</th>\n",
       "      <td>M</td>\n",
       "      <td>0.455</td>\n",
       "      <td>0.365</td>\n",
       "      <td>0.095</td>\n",
       "      <td>0.5140</td>\n",
       "      <td>0.2245</td>\n",
       "      <td>0.1010</td>\n",
       "      <td>0.150</td>\n",
       "      <td>15</td>\n",
       "    </tr>\n",
       "    <tr>\n",
       "      <th>1</th>\n",
       "      <td>M</td>\n",
       "      <td>0.350</td>\n",
       "      <td>0.265</td>\n",
       "      <td>0.090</td>\n",
       "      <td>0.2255</td>\n",
       "      <td>0.0995</td>\n",
       "      <td>0.0485</td>\n",
       "      <td>0.070</td>\n",
       "      <td>7</td>\n",
       "    </tr>\n",
       "    <tr>\n",
       "      <th>2</th>\n",
       "      <td>F</td>\n",
       "      <td>0.530</td>\n",
       "      <td>0.420</td>\n",
       "      <td>0.135</td>\n",
       "      <td>0.6770</td>\n",
       "      <td>0.2565</td>\n",
       "      <td>0.1415</td>\n",
       "      <td>0.210</td>\n",
       "      <td>9</td>\n",
       "    </tr>\n",
       "    <tr>\n",
       "      <th>3</th>\n",
       "      <td>M</td>\n",
       "      <td>0.440</td>\n",
       "      <td>0.365</td>\n",
       "      <td>0.125</td>\n",
       "      <td>0.5160</td>\n",
       "      <td>0.2155</td>\n",
       "      <td>0.1140</td>\n",
       "      <td>0.155</td>\n",
       "      <td>10</td>\n",
       "    </tr>\n",
       "    <tr>\n",
       "      <th>4</th>\n",
       "      <td>I</td>\n",
       "      <td>0.330</td>\n",
       "      <td>0.255</td>\n",
       "      <td>0.080</td>\n",
       "      <td>0.2050</td>\n",
       "      <td>0.0895</td>\n",
       "      <td>0.0395</td>\n",
       "      <td>0.055</td>\n",
       "      <td>7</td>\n",
       "    </tr>\n",
       "  </tbody>\n",
       "</table>\n",
       "</div>"
      ],
      "text/plain": [
       "  Type  LongestShell  Diameter  Height  WholeWeight  ShuckedWeight  \\\n",
       "0    M         0.455     0.365   0.095       0.5140         0.2245   \n",
       "1    M         0.350     0.265   0.090       0.2255         0.0995   \n",
       "2    F         0.530     0.420   0.135       0.6770         0.2565   \n",
       "3    M         0.440     0.365   0.125       0.5160         0.2155   \n",
       "4    I         0.330     0.255   0.080       0.2050         0.0895   \n",
       "\n",
       "   VisceraWeight  ShellWeight  Rings  \n",
       "0         0.1010        0.150     15  \n",
       "1         0.0485        0.070      7  \n",
       "2         0.1415        0.210      9  \n",
       "3         0.1140        0.155     10  \n",
       "4         0.0395        0.055      7  "
      ]
     },
     "execution_count": 1,
     "metadata": {},
     "output_type": "execute_result"
    }
   ],
   "source": [
    "import pandas as pd\n",
    "data= pd.read_csv('./abalone.csv')\n",
    "data.head()"
   ]
  },
  {
   "cell_type": "code",
   "execution_count": 2,
   "id": "3de3319b",
   "metadata": {},
   "outputs": [
    {
     "data": {
      "text/plain": [
       "M    1528\n",
       "I    1342\n",
       "F    1307\n",
       "Name: Type, dtype: int64"
      ]
     },
     "execution_count": 2,
     "metadata": {},
     "output_type": "execute_result"
    }
   ],
   "source": [
    "data.Type.value_counts()"
   ]
  },
  {
   "cell_type": "code",
   "execution_count": 3,
   "id": "7e0edabd",
   "metadata": {},
   "outputs": [],
   "source": [
    "# split into dependent and independent Variables\n",
    "x= data.iloc[:, 1:]\n",
    "y= data.iloc[:,0]"
   ]
  },
  {
   "cell_type": "code",
   "execution_count": 4,
   "id": "90a2a0b2",
   "metadata": {},
   "outputs": [],
   "source": [
    "from sklearn.preprocessing import StandardScaler\n",
    "scale=StandardScaler()\n",
    "x_Scaled=scale.fit_transform(x)"
   ]
  },
  {
   "cell_type": "code",
   "execution_count": 5,
   "id": "cf917196",
   "metadata": {},
   "outputs": [],
   "source": [
    "# splitting into train and test\n",
    "\n",
    "from sklearn.model_selection import train_test_split\n",
    "x_train,x_test,y_train,y_test=train_test_split(x_Scaled,y,train_size=0.8, random_state=10)"
   ]
  },
  {
   "cell_type": "code",
   "execution_count": 6,
   "id": "b39e271f",
   "metadata": {},
   "outputs": [
    {
     "data": {
      "text/html": [
       "<style>#sk-container-id-1 {color: black;background-color: white;}#sk-container-id-1 pre{padding: 0;}#sk-container-id-1 div.sk-toggleable {background-color: white;}#sk-container-id-1 label.sk-toggleable__label {cursor: pointer;display: block;width: 100%;margin-bottom: 0;padding: 0.3em;box-sizing: border-box;text-align: center;}#sk-container-id-1 label.sk-toggleable__label-arrow:before {content: \"▸\";float: left;margin-right: 0.25em;color: #696969;}#sk-container-id-1 label.sk-toggleable__label-arrow:hover:before {color: black;}#sk-container-id-1 div.sk-estimator:hover label.sk-toggleable__label-arrow:before {color: black;}#sk-container-id-1 div.sk-toggleable__content {max-height: 0;max-width: 0;overflow: hidden;text-align: left;background-color: #f0f8ff;}#sk-container-id-1 div.sk-toggleable__content pre {margin: 0.2em;color: black;border-radius: 0.25em;background-color: #f0f8ff;}#sk-container-id-1 input.sk-toggleable__control:checked~div.sk-toggleable__content {max-height: 200px;max-width: 100%;overflow: auto;}#sk-container-id-1 input.sk-toggleable__control:checked~label.sk-toggleable__label-arrow:before {content: \"▾\";}#sk-container-id-1 div.sk-estimator input.sk-toggleable__control:checked~label.sk-toggleable__label {background-color: #d4ebff;}#sk-container-id-1 div.sk-label input.sk-toggleable__control:checked~label.sk-toggleable__label {background-color: #d4ebff;}#sk-container-id-1 input.sk-hidden--visually {border: 0;clip: rect(1px 1px 1px 1px);clip: rect(1px, 1px, 1px, 1px);height: 1px;margin: -1px;overflow: hidden;padding: 0;position: absolute;width: 1px;}#sk-container-id-1 div.sk-estimator {font-family: monospace;background-color: #f0f8ff;border: 1px dotted black;border-radius: 0.25em;box-sizing: border-box;margin-bottom: 0.5em;}#sk-container-id-1 div.sk-estimator:hover {background-color: #d4ebff;}#sk-container-id-1 div.sk-parallel-item::after {content: \"\";width: 100%;border-bottom: 1px solid gray;flex-grow: 1;}#sk-container-id-1 div.sk-label:hover label.sk-toggleable__label {background-color: #d4ebff;}#sk-container-id-1 div.sk-serial::before {content: \"\";position: absolute;border-left: 1px solid gray;box-sizing: border-box;top: 0;bottom: 0;left: 50%;z-index: 0;}#sk-container-id-1 div.sk-serial {display: flex;flex-direction: column;align-items: center;background-color: white;padding-right: 0.2em;padding-left: 0.2em;position: relative;}#sk-container-id-1 div.sk-item {position: relative;z-index: 1;}#sk-container-id-1 div.sk-parallel {display: flex;align-items: stretch;justify-content: center;background-color: white;position: relative;}#sk-container-id-1 div.sk-item::before, #sk-container-id-1 div.sk-parallel-item::before {content: \"\";position: absolute;border-left: 1px solid gray;box-sizing: border-box;top: 0;bottom: 0;left: 50%;z-index: -1;}#sk-container-id-1 div.sk-parallel-item {display: flex;flex-direction: column;z-index: 1;position: relative;background-color: white;}#sk-container-id-1 div.sk-parallel-item:first-child::after {align-self: flex-end;width: 50%;}#sk-container-id-1 div.sk-parallel-item:last-child::after {align-self: flex-start;width: 50%;}#sk-container-id-1 div.sk-parallel-item:only-child::after {width: 0;}#sk-container-id-1 div.sk-dashed-wrapped {border: 1px dashed gray;margin: 0 0.4em 0.5em 0.4em;box-sizing: border-box;padding-bottom: 0.4em;background-color: white;}#sk-container-id-1 div.sk-label label {font-family: monospace;font-weight: bold;display: inline-block;line-height: 1.2em;}#sk-container-id-1 div.sk-label-container {text-align: center;}#sk-container-id-1 div.sk-container {/* jupyter's `normalize.less` sets `[hidden] { display: none; }` but bootstrap.min.css set `[hidden] { display: none !important; }` so we also need the `!important` here to be able to override the default hidden behavior on the sphinx rendered scikit-learn.org. See: https://github.com/scikit-learn/scikit-learn/issues/21755 */display: inline-block !important;position: relative;}#sk-container-id-1 div.sk-text-repr-fallback {display: none;}</style><div id=\"sk-container-id-1\" class=\"sk-top-container\"><div class=\"sk-text-repr-fallback\"><pre>RandomForestClassifier()</pre><b>In a Jupyter environment, please rerun this cell to show the HTML representation or trust the notebook. <br />On GitHub, the HTML representation is unable to render, please try loading this page with nbviewer.org.</b></div><div class=\"sk-container\" hidden><div class=\"sk-item\"><div class=\"sk-estimator sk-toggleable\"><input class=\"sk-toggleable__control sk-hidden--visually\" id=\"sk-estimator-id-1\" type=\"checkbox\" checked><label for=\"sk-estimator-id-1\" class=\"sk-toggleable__label sk-toggleable__label-arrow\">RandomForestClassifier</label><div class=\"sk-toggleable__content\"><pre>RandomForestClassifier()</pre></div></div></div></div></div>"
      ],
      "text/plain": [
       "RandomForestClassifier()"
      ]
     },
     "execution_count": 6,
     "metadata": {},
     "output_type": "execute_result"
    }
   ],
   "source": [
    "# Importing the model\n",
    "from sklearn.ensemble import RandomForestClassifier\n",
    "model= RandomForestClassifier()\n",
    "model.fit(x_train,y_train)"
   ]
  },
  {
   "cell_type": "code",
   "execution_count": 7,
   "id": "58091d16",
   "metadata": {},
   "outputs": [],
   "source": [
    "y_pred= model.predict(x_test)"
   ]
  },
  {
   "cell_type": "code",
   "execution_count": 8,
   "id": "0f93c39c",
   "metadata": {
    "scrolled": true
   },
   "outputs": [
    {
     "data": {
      "text/plain": [
       "array(['I', 'F', 'M', 'M', 'I', 'I', 'F', 'F', 'F', 'M', 'M', 'M', 'I',\n",
       "       'I', 'F', 'I', 'M', 'I', 'M', 'F', 'F', 'M', 'M', 'F', 'F', 'I',\n",
       "       'M', 'M', 'M', 'F', 'F', 'M', 'M', 'F', 'I', 'I', 'F', 'M', 'I',\n",
       "       'M', 'I', 'I', 'I', 'M', 'I', 'M', 'F', 'F', 'F', 'F', 'F', 'M',\n",
       "       'F', 'F', 'I', 'I', 'M', 'F', 'I', 'F', 'F', 'F', 'F', 'I', 'M',\n",
       "       'F', 'F', 'I', 'M', 'F', 'I', 'F', 'I', 'M', 'M', 'M', 'M', 'F',\n",
       "       'F', 'M', 'F', 'M', 'F', 'F', 'M', 'F', 'I', 'M', 'F', 'F', 'F',\n",
       "       'M', 'I', 'F', 'M', 'M', 'M', 'F', 'M', 'I', 'F', 'F', 'F', 'M',\n",
       "       'I', 'I', 'M', 'I', 'I', 'F', 'M', 'I', 'I', 'F', 'F', 'M', 'I',\n",
       "       'F', 'M', 'M', 'M', 'I', 'F', 'I', 'F', 'M', 'I', 'M', 'F', 'I',\n",
       "       'F', 'F', 'I', 'M', 'F', 'I', 'I', 'M', 'I', 'M', 'M', 'M', 'M',\n",
       "       'M', 'M', 'I', 'I', 'M', 'F', 'M', 'I', 'M', 'I', 'I', 'I', 'I',\n",
       "       'I', 'M', 'I', 'M', 'F', 'M', 'M', 'F', 'M', 'M', 'I', 'I', 'I',\n",
       "       'F', 'F', 'I', 'I', 'F', 'I', 'F', 'I', 'M', 'M', 'F', 'I', 'M',\n",
       "       'F', 'I', 'F', 'M', 'F', 'M', 'I', 'I', 'I', 'M', 'I', 'M', 'I',\n",
       "       'F', 'I', 'M', 'M', 'I', 'I', 'M', 'I', 'F', 'M', 'I', 'M', 'I',\n",
       "       'M', 'M', 'F', 'F', 'I', 'M', 'M', 'M', 'I', 'F', 'M', 'F', 'F',\n",
       "       'M', 'M', 'M', 'F', 'I', 'I', 'M', 'F', 'I', 'I', 'I', 'I', 'M',\n",
       "       'M', 'M', 'F', 'I', 'M', 'I', 'F', 'I', 'I', 'M', 'M', 'I', 'I',\n",
       "       'M', 'M', 'I', 'I', 'F', 'I', 'I', 'M', 'F', 'F', 'M', 'I', 'F',\n",
       "       'F', 'I', 'M', 'M', 'M', 'F', 'I', 'M', 'I', 'F', 'I', 'F', 'F',\n",
       "       'F', 'F', 'I', 'F', 'M', 'F', 'I', 'I', 'I', 'M', 'M', 'M', 'M',\n",
       "       'M', 'I', 'F', 'M', 'M', 'I', 'F', 'M', 'F', 'I', 'M', 'F', 'F',\n",
       "       'I', 'M', 'I', 'I', 'M', 'F', 'F', 'I', 'I', 'I', 'M', 'M', 'M',\n",
       "       'I', 'I', 'M', 'M', 'I', 'I', 'I', 'M', 'F', 'I', 'F', 'M', 'F',\n",
       "       'M', 'I', 'I', 'I', 'M', 'F', 'M', 'M', 'I', 'I', 'I', 'F', 'M',\n",
       "       'F', 'F', 'M', 'I', 'M', 'F', 'I', 'I', 'M', 'F', 'F', 'M', 'M',\n",
       "       'I', 'F', 'I', 'M', 'F', 'M', 'I', 'I', 'F', 'M', 'F', 'M', 'F',\n",
       "       'M', 'M', 'M', 'M', 'I', 'I', 'I', 'M', 'I', 'F', 'I', 'M', 'I',\n",
       "       'M', 'F', 'M', 'I', 'F', 'I', 'F', 'M', 'I', 'I', 'M', 'M', 'F',\n",
       "       'M', 'I', 'M', 'I', 'M', 'F', 'F', 'I', 'F', 'F', 'M', 'I', 'I',\n",
       "       'I', 'F', 'F', 'I', 'I', 'I', 'F', 'F', 'I', 'I', 'I', 'F', 'F',\n",
       "       'F', 'F', 'M', 'I', 'F', 'I', 'M', 'F', 'M', 'M', 'F', 'M', 'M',\n",
       "       'F', 'M', 'I', 'F', 'M', 'F', 'F', 'M', 'M', 'F', 'I', 'I', 'F',\n",
       "       'F', 'F', 'M', 'I', 'I', 'I', 'I', 'I', 'M', 'M', 'I', 'I', 'I',\n",
       "       'M', 'M', 'F', 'I', 'F', 'M', 'M', 'F', 'M', 'I', 'I', 'M', 'I',\n",
       "       'F', 'I', 'I', 'F', 'F', 'I', 'F', 'F', 'I', 'M', 'F', 'M', 'F',\n",
       "       'I', 'I', 'I', 'F', 'F', 'M', 'M', 'M', 'M', 'I', 'M', 'M', 'I',\n",
       "       'F', 'F', 'F', 'F', 'I', 'F', 'F', 'M', 'F', 'I', 'I', 'M', 'I',\n",
       "       'M', 'F', 'I', 'I', 'M', 'I', 'I', 'I', 'F', 'M', 'F', 'I', 'F',\n",
       "       'I', 'I', 'I', 'F', 'I', 'F', 'M', 'F', 'M', 'I', 'M', 'M', 'F',\n",
       "       'I', 'M', 'M', 'I', 'F', 'F', 'I', 'F', 'I', 'M', 'M', 'M', 'M',\n",
       "       'F', 'I', 'M', 'M', 'I', 'F', 'M', 'I', 'M', 'F', 'M', 'I', 'M',\n",
       "       'F', 'M', 'F', 'I', 'M', 'M', 'F', 'M', 'M', 'I', 'M', 'M', 'M',\n",
       "       'F', 'F', 'M', 'F', 'M', 'I', 'M', 'F', 'M', 'M', 'I', 'F', 'F',\n",
       "       'I', 'I', 'F', 'I', 'F', 'M', 'I', 'F', 'I', 'F', 'F', 'M', 'I',\n",
       "       'I', 'F', 'M', 'M', 'M', 'I', 'I', 'F', 'M', 'I', 'F', 'I', 'M',\n",
       "       'F', 'M', 'F', 'F', 'M', 'M', 'F', 'F', 'I', 'I', 'I', 'M', 'F',\n",
       "       'F', 'M', 'M', 'F', 'I', 'M', 'I', 'F', 'I', 'M', 'I', 'M', 'I',\n",
       "       'M', 'M', 'I', 'M', 'I', 'M', 'I', 'F', 'F', 'F', 'F', 'F', 'F',\n",
       "       'I', 'M', 'F', 'F', 'I', 'I', 'M', 'I', 'M', 'I', 'F', 'I', 'F',\n",
       "       'F', 'F', 'M', 'M', 'I', 'F', 'I', 'M', 'I', 'I', 'F', 'I', 'M',\n",
       "       'F', 'I', 'F', 'M', 'M', 'M', 'F', 'I', 'M', 'M', 'F', 'F', 'F',\n",
       "       'M', 'M', 'I', 'M', 'I', 'M', 'I', 'M', 'M', 'I', 'F', 'I', 'I',\n",
       "       'I', 'I', 'I', 'M', 'M', 'M', 'M', 'M', 'M', 'M', 'I', 'M', 'I',\n",
       "       'I', 'I', 'F', 'I', 'M', 'I', 'M', 'M', 'M', 'M', 'M', 'M', 'I',\n",
       "       'F', 'I', 'F', 'F', 'F', 'M', 'I', 'I', 'M', 'I', 'I', 'M', 'F',\n",
       "       'M', 'F', 'M', 'F', 'M', 'I', 'M', 'M', 'F', 'F', 'I', 'I', 'M',\n",
       "       'I', 'M', 'M', 'F', 'F', 'M', 'I', 'M', 'F', 'F', 'M', 'F', 'F',\n",
       "       'I', 'M', 'M', 'F', 'M', 'M', 'I', 'F', 'M', 'F', 'F', 'I', 'M',\n",
       "       'M', 'M', 'M', 'F', 'I', 'I', 'I', 'I', 'I', 'I', 'I', 'M', 'F',\n",
       "       'M', 'I', 'I', 'I', 'F', 'M', 'I', 'M', 'I', 'I', 'F', 'F', 'M',\n",
       "       'M', 'I', 'I', 'I', 'M', 'M', 'F', 'I', 'M', 'I', 'I', 'I', 'M',\n",
       "       'M', 'I', 'F', 'I', 'I', 'F', 'F', 'I', 'M', 'I', 'I', 'F', 'I',\n",
       "       'M', 'I', 'M', 'F'], dtype=object)"
      ]
     },
     "execution_count": 8,
     "metadata": {},
     "output_type": "execute_result"
    }
   ],
   "source": [
    "y_pred"
   ]
  },
  {
   "cell_type": "code",
   "execution_count": 9,
   "id": "df050295",
   "metadata": {},
   "outputs": [
    {
     "name": "stdout",
     "output_type": "stream",
     "text": [
      "0.5358851674641149\n"
     ]
    },
    {
     "data": {
      "text/html": [
       "<div>\n",
       "<style scoped>\n",
       "    .dataframe tbody tr th:only-of-type {\n",
       "        vertical-align: middle;\n",
       "    }\n",
       "\n",
       "    .dataframe tbody tr th {\n",
       "        vertical-align: top;\n",
       "    }\n",
       "\n",
       "    .dataframe thead th {\n",
       "        text-align: right;\n",
       "    }\n",
       "</style>\n",
       "<table border=\"1\" class=\"dataframe\">\n",
       "  <thead>\n",
       "    <tr style=\"text-align: right;\">\n",
       "      <th>col_0</th>\n",
       "      <th>F</th>\n",
       "      <th>I</th>\n",
       "      <th>M</th>\n",
       "    </tr>\n",
       "    <tr>\n",
       "      <th>Type</th>\n",
       "      <th></th>\n",
       "      <th></th>\n",
       "      <th></th>\n",
       "    </tr>\n",
       "  </thead>\n",
       "  <tbody>\n",
       "    <tr>\n",
       "      <th>F</th>\n",
       "      <td>109</td>\n",
       "      <td>29</td>\n",
       "      <td>127</td>\n",
       "    </tr>\n",
       "    <tr>\n",
       "      <th>I</th>\n",
       "      <td>24</td>\n",
       "      <td>208</td>\n",
       "      <td>38</td>\n",
       "    </tr>\n",
       "    <tr>\n",
       "      <th>M</th>\n",
       "      <td>116</td>\n",
       "      <td>54</td>\n",
       "      <td>131</td>\n",
       "    </tr>\n",
       "  </tbody>\n",
       "</table>\n",
       "</div>"
      ],
      "text/plain": [
       "col_0    F    I    M\n",
       "Type                \n",
       "F      109   29  127\n",
       "I       24  208   38\n",
       "M      116   54  131"
      ]
     },
     "execution_count": 9,
     "metadata": {},
     "output_type": "execute_result"
    }
   ],
   "source": [
    "from sklearn.metrics import accuracy_score\n",
    "print(accuracy_score(y_test, y_pred))\n",
    "pd.crosstab(y_test, y_pred)"
   ]
  },
  {
   "cell_type": "code",
   "execution_count": 10,
   "id": "bc14fb09",
   "metadata": {},
   "outputs": [],
   "source": [
    "#!pip install mlxtend"
   ]
  },
  {
   "cell_type": "code",
   "execution_count": 11,
   "id": "92b06ded",
   "metadata": {},
   "outputs": [],
   "source": [
    "from mlxtend.feature_selection import SequentialFeatureSelector"
   ]
  },
  {
   "cell_type": "code",
   "execution_count": 12,
   "id": "ec771a91",
   "metadata": {},
   "outputs": [
    {
     "name": "stderr",
     "output_type": "stream",
     "text": [
      "[Parallel(n_jobs=1)]: Using backend SequentialBackend with 1 concurrent workers.\n",
      "[Parallel(n_jobs=1)]: Done   1 out of   1 | elapsed:    4.0s remaining:    0.0s\n",
      "[Parallel(n_jobs=1)]: Done   8 out of   8 | elapsed:   14.0s finished\n",
      "\n",
      "[2022-06-12 21:40:38] Features: 1/8 -- score: 0.5133253672028142[Parallel(n_jobs=1)]: Using backend SequentialBackend with 1 concurrent workers.\n",
      "[Parallel(n_jobs=1)]: Done   1 out of   1 | elapsed:    1.2s remaining:    0.0s\n",
      "[Parallel(n_jobs=1)]: Done   7 out of   7 | elapsed:    9.8s finished\n",
      "\n",
      "[2022-06-12 21:40:48] Features: 2/8 -- score: 0.5055346705691754[Parallel(n_jobs=1)]: Using backend SequentialBackend with 1 concurrent workers.\n",
      "[Parallel(n_jobs=1)]: Done   1 out of   1 | elapsed:    1.3s remaining:    0.0s\n",
      "[Parallel(n_jobs=1)]: Done   6 out of   6 | elapsed:    8.9s finished\n",
      "\n",
      "[2022-06-12 21:40:57] Features: 3/8 -- score: 0.5100319540291613[Parallel(n_jobs=1)]: Using backend SequentialBackend with 1 concurrent workers.\n",
      "[Parallel(n_jobs=1)]: Done   1 out of   1 | elapsed:    1.5s remaining:    0.0s\n",
      "[Parallel(n_jobs=1)]: Done   5 out of   5 | elapsed:    7.9s finished\n",
      "\n",
      "[2022-06-12 21:41:05] Features: 4/8 -- score: 0.5354747903296546[Parallel(n_jobs=1)]: Using backend SequentialBackend with 1 concurrent workers.\n",
      "[Parallel(n_jobs=1)]: Done   1 out of   1 | elapsed:    1.4s remaining:    0.0s\n",
      "[Parallel(n_jobs=1)]: Done   4 out of   4 | elapsed:    6.0s finished\n",
      "\n",
      "[2022-06-12 21:41:11] Features: 5/8 -- score: 0.5426523634345658[Parallel(n_jobs=1)]: Using backend SequentialBackend with 1 concurrent workers.\n",
      "[Parallel(n_jobs=1)]: Done   1 out of   1 | elapsed:    1.5s remaining:    0.0s\n",
      "[Parallel(n_jobs=1)]: Done   3 out of   3 | elapsed:    4.5s finished\n",
      "\n",
      "[2022-06-12 21:41:16] Features: 6/8 -- score: 0.5462456253412458[Parallel(n_jobs=1)]: Using backend SequentialBackend with 1 concurrent workers.\n",
      "[Parallel(n_jobs=1)]: Done   1 out of   1 | elapsed:    1.5s remaining:    0.0s\n",
      "[Parallel(n_jobs=1)]: Done   2 out of   2 | elapsed:    3.1s finished\n",
      "\n",
      "[2022-06-12 21:41:19] Features: 7/8 -- score: 0.5429513170967482[Parallel(n_jobs=1)]: Using backend SequentialBackend with 1 concurrent workers.\n",
      "[Parallel(n_jobs=1)]: Done   1 out of   1 | elapsed:    1.5s remaining:    0.0s\n",
      "[Parallel(n_jobs=1)]: Done   1 out of   1 | elapsed:    1.5s finished\n",
      "\n",
      "[2022-06-12 21:41:21] Features: 8/8 -- score: 0.5351691236361358"
     ]
    }
   ],
   "source": [
    "forwardSelector= SequentialFeatureSelector(RandomForestClassifier(n_jobs=-1),\n",
    "                                                               k_features=(1,8),\n",
    "                                                               forward=True,\n",
    "                                                               verbose=2,\n",
    "                                                               scoring=\"accuracy\",\n",
    "                                                               cv=5).fit(x_train,y_train)"
   ]
  },
  {
   "cell_type": "code",
   "execution_count": 13,
   "id": "dea5b530",
   "metadata": {},
   "outputs": [
    {
     "data": {
      "text/plain": [
       "3544    I\n",
       "2751    F\n",
       "4019    M\n",
       "997     M\n",
       "2523    F\n",
       "       ..\n",
       "2009    I\n",
       "1180    M\n",
       "3441    F\n",
       "1344    M\n",
       "1289    I\n",
       "Name: Type, Length: 3341, dtype: object"
      ]
     },
     "execution_count": 13,
     "metadata": {},
     "output_type": "execute_result"
    }
   ],
   "source": [
    "y_train"
   ]
  },
  {
   "cell_type": "code",
   "execution_count": 14,
   "id": "7066d628",
   "metadata": {},
   "outputs": [
    {
     "data": {
      "text/plain": [
       "(0, 1, 2, 3, 5, 7)"
      ]
     },
     "execution_count": 14,
     "metadata": {},
     "output_type": "execute_result"
    }
   ],
   "source": [
    "forwardSelector.k_feature_idx_"
   ]
  },
  {
   "cell_type": "code",
   "execution_count": 15,
   "id": "a4dcc0e6",
   "metadata": {},
   "outputs": [
    {
     "data": {
      "text/plain": [
       "('0', '1', '2', '3', '5', '7')"
      ]
     },
     "execution_count": 15,
     "metadata": {},
     "output_type": "execute_result"
    }
   ],
   "source": [
    "forwardSelector.k_feature_names_"
   ]
  },
  {
   "cell_type": "code",
   "execution_count": 16,
   "id": "79ecfadc",
   "metadata": {},
   "outputs": [
    {
     "data": {
      "text/plain": [
       "0.5462456253412458"
      ]
     },
     "execution_count": 16,
     "metadata": {},
     "output_type": "execute_result"
    }
   ],
   "source": [
    "forwardSelector.k_score_"
   ]
  },
  {
   "cell_type": "code",
   "execution_count": 17,
   "id": "c144e994",
   "metadata": {},
   "outputs": [
    {
     "data": {
      "text/html": [
       "<div>\n",
       "<style scoped>\n",
       "    .dataframe tbody tr th:only-of-type {\n",
       "        vertical-align: middle;\n",
       "    }\n",
       "\n",
       "    .dataframe tbody tr th {\n",
       "        vertical-align: top;\n",
       "    }\n",
       "\n",
       "    .dataframe thead th {\n",
       "        text-align: right;\n",
       "    }\n",
       "</style>\n",
       "<table border=\"1\" class=\"dataframe\">\n",
       "  <thead>\n",
       "    <tr style=\"text-align: right;\">\n",
       "      <th></th>\n",
       "      <th>feature_idx</th>\n",
       "      <th>cv_scores</th>\n",
       "      <th>avg_score</th>\n",
       "      <th>feature_names</th>\n",
       "      <th>ci_bound</th>\n",
       "      <th>std_dev</th>\n",
       "      <th>std_err</th>\n",
       "    </tr>\n",
       "  </thead>\n",
       "  <tbody>\n",
       "    <tr>\n",
       "      <th>1</th>\n",
       "      <td>(2,)</td>\n",
       "      <td>[0.49327354260089684, 0.5119760479041916, 0.52...</td>\n",
       "      <td>0.513325</td>\n",
       "      <td>(2,)</td>\n",
       "      <td>0.016395</td>\n",
       "      <td>0.012756</td>\n",
       "      <td>0.006378</td>\n",
       "    </tr>\n",
       "    <tr>\n",
       "      <th>2</th>\n",
       "      <td>(2, 7)</td>\n",
       "      <td>[0.5142002989536621, 0.49700598802395207, 0.50...</td>\n",
       "      <td>0.505535</td>\n",
       "      <td>(2, 7)</td>\n",
       "      <td>0.008546</td>\n",
       "      <td>0.006649</td>\n",
       "      <td>0.003324</td>\n",
       "    </tr>\n",
       "    <tr>\n",
       "      <th>3</th>\n",
       "      <td>(2, 3, 7)</td>\n",
       "      <td>[0.49327354260089684, 0.5179640718562875, 0.51...</td>\n",
       "      <td>0.510032</td>\n",
       "      <td>(2, 3, 7)</td>\n",
       "      <td>0.012097</td>\n",
       "      <td>0.009412</td>\n",
       "      <td>0.004706</td>\n",
       "    </tr>\n",
       "    <tr>\n",
       "      <th>4</th>\n",
       "      <td>(1, 2, 3, 7)</td>\n",
       "      <td>[0.5142002989536621, 0.5553892215568862, 0.552...</td>\n",
       "      <td>0.535475</td>\n",
       "      <td>(1, 2, 3, 7)</td>\n",
       "      <td>0.021447</td>\n",
       "      <td>0.016686</td>\n",
       "      <td>0.008343</td>\n",
       "    </tr>\n",
       "    <tr>\n",
       "      <th>5</th>\n",
       "      <td>(1, 2, 3, 5, 7)</td>\n",
       "      <td>[0.5411061285500748, 0.5568862275449101, 0.535...</td>\n",
       "      <td>0.542652</td>\n",
       "      <td>(1, 2, 3, 5, 7)</td>\n",
       "      <td>0.009585</td>\n",
       "      <td>0.007458</td>\n",
       "      <td>0.003729</td>\n",
       "    </tr>\n",
       "    <tr>\n",
       "      <th>6</th>\n",
       "      <td>(0, 1, 2, 3, 5, 7)</td>\n",
       "      <td>[0.5396113602391629, 0.562874251497006, 0.5688...</td>\n",
       "      <td>0.546246</td>\n",
       "      <td>(0, 1, 2, 3, 5, 7)</td>\n",
       "      <td>0.028804</td>\n",
       "      <td>0.022411</td>\n",
       "      <td>0.011205</td>\n",
       "    </tr>\n",
       "    <tr>\n",
       "      <th>7</th>\n",
       "      <td>(0, 1, 2, 3, 5, 6, 7)</td>\n",
       "      <td>[0.5426008968609866, 0.5508982035928144, 0.538...</td>\n",
       "      <td>0.542951</td>\n",
       "      <td>(0, 1, 2, 3, 5, 6, 7)</td>\n",
       "      <td>0.00682</td>\n",
       "      <td>0.005306</td>\n",
       "      <td>0.002653</td>\n",
       "    </tr>\n",
       "    <tr>\n",
       "      <th>8</th>\n",
       "      <td>(0, 1, 2, 3, 4, 5, 6, 7)</td>\n",
       "      <td>[0.5351270553064275, 0.5344311377245509, 0.556...</td>\n",
       "      <td>0.535169</td>\n",
       "      <td>(0, 1, 2, 3, 4, 5, 6, 7)</td>\n",
       "      <td>0.015417</td>\n",
       "      <td>0.011995</td>\n",
       "      <td>0.005997</td>\n",
       "    </tr>\n",
       "  </tbody>\n",
       "</table>\n",
       "</div>"
      ],
      "text/plain": [
       "                feature_idx  \\\n",
       "1                      (2,)   \n",
       "2                    (2, 7)   \n",
       "3                 (2, 3, 7)   \n",
       "4              (1, 2, 3, 7)   \n",
       "5           (1, 2, 3, 5, 7)   \n",
       "6        (0, 1, 2, 3, 5, 7)   \n",
       "7     (0, 1, 2, 3, 5, 6, 7)   \n",
       "8  (0, 1, 2, 3, 4, 5, 6, 7)   \n",
       "\n",
       "                                           cv_scores avg_score  \\\n",
       "1  [0.49327354260089684, 0.5119760479041916, 0.52...  0.513325   \n",
       "2  [0.5142002989536621, 0.49700598802395207, 0.50...  0.505535   \n",
       "3  [0.49327354260089684, 0.5179640718562875, 0.51...  0.510032   \n",
       "4  [0.5142002989536621, 0.5553892215568862, 0.552...  0.535475   \n",
       "5  [0.5411061285500748, 0.5568862275449101, 0.535...  0.542652   \n",
       "6  [0.5396113602391629, 0.562874251497006, 0.5688...  0.546246   \n",
       "7  [0.5426008968609866, 0.5508982035928144, 0.538...  0.542951   \n",
       "8  [0.5351270553064275, 0.5344311377245509, 0.556...  0.535169   \n",
       "\n",
       "              feature_names  ci_bound   std_dev   std_err  \n",
       "1                      (2,)  0.016395  0.012756  0.006378  \n",
       "2                    (2, 7)  0.008546  0.006649  0.003324  \n",
       "3                 (2, 3, 7)  0.012097  0.009412  0.004706  \n",
       "4              (1, 2, 3, 7)  0.021447  0.016686  0.008343  \n",
       "5           (1, 2, 3, 5, 7)  0.009585  0.007458  0.003729  \n",
       "6        (0, 1, 2, 3, 5, 7)  0.028804  0.022411  0.011205  \n",
       "7     (0, 1, 2, 3, 5, 6, 7)   0.00682  0.005306  0.002653  \n",
       "8  (0, 1, 2, 3, 4, 5, 6, 7)  0.015417  0.011995  0.005997  "
      ]
     },
     "execution_count": 17,
     "metadata": {},
     "output_type": "execute_result"
    }
   ],
   "source": [
    "pd.DataFrame.from_dict(forwardSelector.get_metric_dict()).T"
   ]
  },
  {
   "cell_type": "markdown",
   "id": "c53628db",
   "metadata": {},
   "source": [
    "# Backward Selection\n",
    "---"
   ]
  },
  {
   "cell_type": "code",
   "execution_count": 18,
   "id": "ab1a99b9",
   "metadata": {},
   "outputs": [
    {
     "name": "stderr",
     "output_type": "stream",
     "text": [
      "[Parallel(n_jobs=1)]: Using backend SequentialBackend with 1 concurrent workers.\n",
      "[Parallel(n_jobs=1)]: Done   1 out of   1 | elapsed:    1.6s remaining:    0.0s\n",
      "[Parallel(n_jobs=1)]: Done   8 out of   8 | elapsed:   12.7s finished\n",
      "\n",
      "[2022-06-12 21:41:35] Features: 7/1 -- score: 0.5486381497095495[Parallel(n_jobs=1)]: Using backend SequentialBackend with 1 concurrent workers.\n",
      "[Parallel(n_jobs=1)]: Done   1 out of   1 | elapsed:    1.7s remaining:    0.0s\n",
      "[Parallel(n_jobs=1)]: Done   7 out of   7 | elapsed:   11.4s finished\n",
      "\n",
      "[2022-06-12 21:41:47] Features: 6/1 -- score: 0.5540296089435479[Parallel(n_jobs=1)]: Using backend SequentialBackend with 1 concurrent workers.\n",
      "[Parallel(n_jobs=1)]: Done   1 out of   1 | elapsed:    1.6s remaining:    0.0s\n",
      "[Parallel(n_jobs=1)]: Done   6 out of   6 | elapsed:    9.7s finished\n",
      "\n",
      "[2022-06-12 21:41:57] Features: 5/1 -- score: 0.5489379984425767[Parallel(n_jobs=1)]: Using backend SequentialBackend with 1 concurrent workers.\n",
      "[Parallel(n_jobs=1)]: Done   1 out of   1 | elapsed:    1.4s remaining:    0.0s\n",
      "[Parallel(n_jobs=1)]: Done   5 out of   5 | elapsed:    7.8s finished\n",
      "\n",
      "[2022-06-12 21:42:05] Features: 4/1 -- score: 0.5381604503996491[Parallel(n_jobs=1)]: Using backend SequentialBackend with 1 concurrent workers.\n",
      "[Parallel(n_jobs=1)]: Done   1 out of   1 | elapsed:    1.4s remaining:    0.0s\n",
      "[Parallel(n_jobs=1)]: Done   4 out of   4 | elapsed:    6.4s finished\n",
      "\n",
      "[2022-06-12 21:42:11] Features: 3/1 -- score: 0.5261879827788369[Parallel(n_jobs=1)]: Using backend SequentialBackend with 1 concurrent workers.\n",
      "[Parallel(n_jobs=1)]: Done   1 out of   1 | elapsed:    1.3s remaining:    0.0s\n",
      "[Parallel(n_jobs=1)]: Done   3 out of   3 | elapsed:    4.6s finished\n",
      "\n",
      "[2022-06-12 21:42:16] Features: 2/1 -- score: 0.4878726851230275[Parallel(n_jobs=1)]: Using backend SequentialBackend with 1 concurrent workers.\n",
      "[Parallel(n_jobs=1)]: Done   1 out of   1 | elapsed:    1.4s remaining:    0.0s\n",
      "[Parallel(n_jobs=1)]: Done   2 out of   2 | elapsed:    2.8s finished\n",
      "\n",
      "[2022-06-12 21:42:19] Features: 1/1 -- score: 0.48547434279423224"
     ]
    }
   ],
   "source": [
    "backwardSelector= SequentialFeatureSelector(RandomForestClassifier(n_jobs=-1),\n",
    "                                                               k_features=(1,8),\n",
    "                                                               forward=False,\n",
    "                                                               verbose=2,\n",
    "                                                               scoring=\"accuracy\",\n",
    "                                                               cv=5).fit(x_train,y_train)"
   ]
  },
  {
   "cell_type": "code",
   "execution_count": 19,
   "id": "f7c21bb4",
   "metadata": {},
   "outputs": [
    {
     "data": {
      "text/html": [
       "<div>\n",
       "<style scoped>\n",
       "    .dataframe tbody tr th:only-of-type {\n",
       "        vertical-align: middle;\n",
       "    }\n",
       "\n",
       "    .dataframe tbody tr th {\n",
       "        vertical-align: top;\n",
       "    }\n",
       "\n",
       "    .dataframe thead th {\n",
       "        text-align: right;\n",
       "    }\n",
       "</style>\n",
       "<table border=\"1\" class=\"dataframe\">\n",
       "  <thead>\n",
       "    <tr style=\"text-align: right;\">\n",
       "      <th></th>\n",
       "      <th>feature_idx</th>\n",
       "      <th>cv_scores</th>\n",
       "      <th>avg_score</th>\n",
       "      <th>feature_names</th>\n",
       "      <th>ci_bound</th>\n",
       "      <th>std_dev</th>\n",
       "      <th>std_err</th>\n",
       "    </tr>\n",
       "  </thead>\n",
       "  <tbody>\n",
       "    <tr>\n",
       "      <th>8</th>\n",
       "      <td>(0, 1, 2, 3, 4, 5, 6, 7)</td>\n",
       "      <td>[0.5366218236173393, 0.561377245508982, 0.5404...</td>\n",
       "      <td>0.540558</td>\n",
       "      <td>(0, 1, 2, 3, 4, 5, 6, 7)</td>\n",
       "      <td>0.01428</td>\n",
       "      <td>0.01111</td>\n",
       "      <td>0.005555</td>\n",
       "    </tr>\n",
       "    <tr>\n",
       "      <th>7</th>\n",
       "      <td>(0, 1, 3, 4, 5, 6, 7)</td>\n",
       "      <td>[0.5485799701046338, 0.5763473053892215, 0.543...</td>\n",
       "      <td>0.548638</td>\n",
       "      <td>(0, 1, 3, 4, 5, 6, 7)</td>\n",
       "      <td>0.018754</td>\n",
       "      <td>0.014591</td>\n",
       "      <td>0.007296</td>\n",
       "    </tr>\n",
       "    <tr>\n",
       "      <th>6</th>\n",
       "      <td>(0, 1, 3, 5, 6, 7)</td>\n",
       "      <td>[0.5411061285500748, 0.5598802395209581, 0.562...</td>\n",
       "      <td>0.55403</td>\n",
       "      <td>(0, 1, 3, 5, 6, 7)</td>\n",
       "      <td>0.010535</td>\n",
       "      <td>0.008197</td>\n",
       "      <td>0.004098</td>\n",
       "    </tr>\n",
       "    <tr>\n",
       "      <th>5</th>\n",
       "      <td>(0, 3, 5, 6, 7)</td>\n",
       "      <td>[0.547085201793722, 0.561377245508982, 0.56736...</td>\n",
       "      <td>0.548938</td>\n",
       "      <td>(0, 3, 5, 6, 7)</td>\n",
       "      <td>0.017422</td>\n",
       "      <td>0.013555</td>\n",
       "      <td>0.006777</td>\n",
       "    </tr>\n",
       "    <tr>\n",
       "      <th>4</th>\n",
       "      <td>(0, 3, 5, 6)</td>\n",
       "      <td>[0.5440956651718983, 0.5434131736526946, 0.550...</td>\n",
       "      <td>0.53816</td>\n",
       "      <td>(0, 3, 5, 6)</td>\n",
       "      <td>0.016611</td>\n",
       "      <td>0.012924</td>\n",
       "      <td>0.006462</td>\n",
       "    </tr>\n",
       "    <tr>\n",
       "      <th>3</th>\n",
       "      <td>(0, 5, 6)</td>\n",
       "      <td>[0.5321375186846039, 0.5224550898203593, 0.529...</td>\n",
       "      <td>0.526188</td>\n",
       "      <td>(0, 5, 6)</td>\n",
       "      <td>0.005216</td>\n",
       "      <td>0.004058</td>\n",
       "      <td>0.002029</td>\n",
       "    </tr>\n",
       "    <tr>\n",
       "      <th>2</th>\n",
       "      <td>(5, 6)</td>\n",
       "      <td>[0.5052316890881914, 0.48353293413173654, 0.47...</td>\n",
       "      <td>0.487873</td>\n",
       "      <td>(5, 6)</td>\n",
       "      <td>0.020255</td>\n",
       "      <td>0.015759</td>\n",
       "      <td>0.007879</td>\n",
       "    </tr>\n",
       "    <tr>\n",
       "      <th>1</th>\n",
       "      <td>(5,)</td>\n",
       "      <td>[0.515695067264574, 0.4865269461077844, 0.4730...</td>\n",
       "      <td>0.485474</td>\n",
       "      <td>(5,)</td>\n",
       "      <td>0.020438</td>\n",
       "      <td>0.015902</td>\n",
       "      <td>0.007951</td>\n",
       "    </tr>\n",
       "  </tbody>\n",
       "</table>\n",
       "</div>"
      ],
      "text/plain": [
       "                feature_idx  \\\n",
       "8  (0, 1, 2, 3, 4, 5, 6, 7)   \n",
       "7     (0, 1, 3, 4, 5, 6, 7)   \n",
       "6        (0, 1, 3, 5, 6, 7)   \n",
       "5           (0, 3, 5, 6, 7)   \n",
       "4              (0, 3, 5, 6)   \n",
       "3                 (0, 5, 6)   \n",
       "2                    (5, 6)   \n",
       "1                      (5,)   \n",
       "\n",
       "                                           cv_scores avg_score  \\\n",
       "8  [0.5366218236173393, 0.561377245508982, 0.5404...  0.540558   \n",
       "7  [0.5485799701046338, 0.5763473053892215, 0.543...  0.548638   \n",
       "6  [0.5411061285500748, 0.5598802395209581, 0.562...   0.55403   \n",
       "5  [0.547085201793722, 0.561377245508982, 0.56736...  0.548938   \n",
       "4  [0.5440956651718983, 0.5434131736526946, 0.550...   0.53816   \n",
       "3  [0.5321375186846039, 0.5224550898203593, 0.529...  0.526188   \n",
       "2  [0.5052316890881914, 0.48353293413173654, 0.47...  0.487873   \n",
       "1  [0.515695067264574, 0.4865269461077844, 0.4730...  0.485474   \n",
       "\n",
       "              feature_names  ci_bound   std_dev   std_err  \n",
       "8  (0, 1, 2, 3, 4, 5, 6, 7)   0.01428   0.01111  0.005555  \n",
       "7     (0, 1, 3, 4, 5, 6, 7)  0.018754  0.014591  0.007296  \n",
       "6        (0, 1, 3, 5, 6, 7)  0.010535  0.008197  0.004098  \n",
       "5           (0, 3, 5, 6, 7)  0.017422  0.013555  0.006777  \n",
       "4              (0, 3, 5, 6)  0.016611  0.012924  0.006462  \n",
       "3                 (0, 5, 6)  0.005216  0.004058  0.002029  \n",
       "2                    (5, 6)  0.020255  0.015759  0.007879  \n",
       "1                      (5,)  0.020438  0.015902  0.007951  "
      ]
     },
     "execution_count": 19,
     "metadata": {},
     "output_type": "execute_result"
    }
   ],
   "source": [
    "pd.DataFrame.from_dict(backwardSelector.get_metric_dict()).T"
   ]
  },
  {
   "cell_type": "code",
   "execution_count": 20,
   "id": "1a1d906e",
   "metadata": {},
   "outputs": [
    {
     "data": {
      "text/plain": [
       "(0, 1, 3, 5, 6, 7)"
      ]
     },
     "execution_count": 20,
     "metadata": {},
     "output_type": "execute_result"
    }
   ],
   "source": [
    "backwardSelector.k_feature_idx_"
   ]
  },
  {
   "cell_type": "code",
   "execution_count": 21,
   "id": "6396dd6e",
   "metadata": {},
   "outputs": [
    {
     "data": {
      "text/plain": [
       "('0', '1', '3', '5', '6', '7')"
      ]
     },
     "execution_count": 21,
     "metadata": {},
     "output_type": "execute_result"
    }
   ],
   "source": [
    "backwardSelector.k_feature_names_"
   ]
  },
  {
   "cell_type": "code",
   "execution_count": 22,
   "id": "4ab193b4",
   "metadata": {},
   "outputs": [
    {
     "data": {
      "text/plain": [
       "0.5540296089435479"
      ]
     },
     "execution_count": 22,
     "metadata": {},
     "output_type": "execute_result"
    }
   ],
   "source": [
    "backwardSelector.k_score_"
   ]
  },
  {
   "cell_type": "code",
   "execution_count": null,
   "id": "75fcee21",
   "metadata": {},
   "outputs": [],
   "source": []
  },
  {
   "cell_type": "code",
   "execution_count": null,
   "id": "229ff174",
   "metadata": {},
   "outputs": [],
   "source": []
  }
 ],
 "metadata": {
  "kernelspec": {
   "display_name": "Python 3 (ipykernel)",
   "language": "python",
   "name": "python3"
  },
  "language_info": {
   "codemirror_mode": {
    "name": "ipython",
    "version": 3
   },
   "file_extension": ".py",
   "mimetype": "text/x-python",
   "name": "python",
   "nbconvert_exporter": "python",
   "pygments_lexer": "ipython3",
   "version": "3.9.7"
  }
 },
 "nbformat": 4,
 "nbformat_minor": 5
}
